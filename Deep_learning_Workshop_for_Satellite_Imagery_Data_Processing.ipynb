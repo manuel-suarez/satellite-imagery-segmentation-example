{
  "nbformat": 4,
  "nbformat_minor": 0,
  "metadata": {
    "colab": {
      "provenance": [],
      "mount_file_id": "1PIqDwXnPJVMYh4FRdaPUOdonCwaw0nLB",
      "authorship_tag": "ABX9TyPbg1k+ZeemY+ZuvhNmKbtc",
      "include_colab_link": true
    },
    "kernelspec": {
      "name": "python3",
      "display_name": "Python 3"
    },
    "language_info": {
      "name": "python"
    }
  },
  "cells": [
    {
      "cell_type": "markdown",
      "metadata": {
        "id": "view-in-github",
        "colab_type": "text"
      },
      "source": [
        "<a href=\"https://colab.research.google.com/github/manuel-suarez/satellite-imagery-segmentation-example/blob/main/Deep_learning_Workshop_for_Satellite_Imagery_Data_Processing.ipynb\" target=\"_parent\"><img src=\"https://colab.research.google.com/assets/colab-badge.svg\" alt=\"Open In Colab\"/></a>"
      ]
    },
    {
      "cell_type": "code",
      "execution_count": 2,
      "metadata": {
        "id": "pb9jEFWMEgjH",
        "colab": {
          "base_uri": "https://localhost:8080/"
        },
        "outputId": "ea315b4e-663e-4c31-c7eb-5c478fc4a073"
      },
      "outputs": [
        {
          "output_type": "stream",
          "name": "stdout",
          "text": [
            "total 33K\n",
            "-rw------- 1 root root  548 Feb 12  2020  classes.json\n",
            "drwx------ 4 root root 4.0K Sep 22 23:09 'Tile 1'\n",
            "drwx------ 4 root root 4.0K Sep 22 23:09 'Tile 2'\n",
            "drwx------ 4 root root 4.0K Sep 22 23:09 'Tile 3'\n",
            "drwx------ 4 root root 4.0K Sep 22 23:09 'Tile 4'\n",
            "drwx------ 4 root root 4.0K Sep 22 23:09 'Tile 5'\n",
            "drwx------ 4 root root 4.0K Sep 22 23:09 'Tile 6'\n",
            "drwx------ 4 root root 4.0K Sep 22 23:09 'Tile 7'\n",
            "drwx------ 4 root root 4.0K Sep 22 23:09 'Tile 8'\n"
          ]
        }
      ],
      "source": [
        "!ls -lah '/content/drive/MyDrive/DeepLearning/Datasets/DubaiDataset'"
      ]
    },
    {
      "cell_type": "code",
      "source": [
        "dataset_root_folder = '/content/drive/MyDrive/DeepLearning/Datasets'"
      ],
      "metadata": {
        "id": "9xVlqnQ8Ktc1"
      },
      "execution_count": 5,
      "outputs": []
    },
    {
      "cell_type": "code",
      "source": [
        "dataset_name = \"DubaiDataset\""
      ],
      "metadata": {
        "id": "DvhahK3rLPsS"
      },
      "execution_count": 6,
      "outputs": []
    },
    {
      "cell_type": "code",
      "source": [
        "import os\n",
        "import cv2"
      ],
      "metadata": {
        "id": "PHF6fOxGLM8p"
      },
      "execution_count": 19,
      "outputs": []
    },
    {
      "cell_type": "code",
      "source": [
        "for path, subdirs, files in os.walk(os.path.join(dataset_root_folder, dataset_name)):\n",
        "  dir_name = path.split(os.path.sep)[-1]\n",
        "  if dir_name == 'masks':\n",
        "    images = os.listdir(path)\n",
        "    for i, image_name in enumerate(images):\n",
        "      if (image_name.endswith('.png')):\n",
        "        a = True"
      ],
      "metadata": {
        "id": "f-OeI7RMLN4r"
      },
      "execution_count": 20,
      "outputs": []
    },
    {
      "cell_type": "code",
      "source": [],
      "metadata": {
        "id": "BDr6e3rCLpKi"
      },
      "execution_count": null,
      "outputs": []
    }
  ]
}